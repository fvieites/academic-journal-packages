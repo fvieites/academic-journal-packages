{
 "metadata": {
  "language_info": {
   "codemirror_mode": {
    "name": "ipython",
    "version": 3
   },
   "file_extension": ".py",
   "mimetype": "text/x-python",
   "name": "python",
   "nbconvert_exporter": "python",
   "pygments_lexer": "ipython3",
   "version": "3.7.7"
  },
  "orig_nbformat": 4,
  "kernelspec": {
   "name": "python3",
   "display_name": "Python 3.7.7 64-bit ('VSCEnv': conda)"
  },
  "interpreter": {
   "hash": "b07dd0f1d594fbcaa181942932e1fe61b445d8954c68fe2cda2920f29932a38f"
  }
 },
 "nbformat": 4,
 "nbformat_minor": 2,
 "cells": [
  {
   "source": [
    "# Academic journal package summary from KBART Files\n",
    "## Elsevier:\n",
    "Url for KBART files: https://holdings.sciencedirect.com/ehr/searchReports.\n",
    "\n",
    "* Freedom Collection \n",
    "* Cell Press \n",
    "* Clinics Collection\n",
    "* ?? KBART files not found: Lancet?\n",
    "\n",
    "## Springer:\n",
    "Url for KBART files: http://metadata.springernature.com/metadata/kbart\n",
    "\n",
    "* Complete Springer Journals\n",
    "* Nature Journals\n",
    "* ?? KBart files not found: Adis? Palgrave? Academic?\n",
    "\n",
    "## Wiley:\n",
    "Url for KBART files: https://onlinelibrary.wiley.com/library-info/resources/discovery/kbart2019?=#\n",
    "* DBM 2021\n",
    "* Full Journals 2021 - this kbart seems truncated\n",
    "\n",
    "## Cambridge University Press\n",
    "Url for KBART files: https://www.cambridge.org/core/services/librarians/kbart\n",
    "* CUP Journals Full Package 2021\n",
    "\n",
    "## Oxford University Press\n",
    "https://academic.oup.com/journals/pages/librarians/kbart\n",
    "* OUP Current Collection 2021\n",
    "* OUP Open Access Titles 2021\n",
    "\n",
    "The list of kbart files and urls used are in the file \"list of packages.xlsx\""
   ],
   "cell_type": "markdown",
   "metadata": {}
  },
  {
   "cell_type": "code",
   "execution_count": 1,
   "metadata": {},
   "outputs": [],
   "source": [
    "from IPython.display import display, HTML\n",
    "import src.tools as tools"
   ]
  },
  {
   "source": [
    "## KBART files to use:\n"
   ],
   "cell_type": "markdown",
   "metadata": {}
  },
  {
   "cell_type": "code",
   "execution_count": 2,
   "metadata": {},
   "outputs": [
    {
     "output_type": "display_data",
     "data": {
      "text/plain": "               code                             name  \\\n0       ELSEVIER_FC      Elsevier Freedom Collection   \n1     ELSEVIER_CELL                       Cell Press   \n2  ELSEVIER_CLINICS      Elsevier Clinics Collection   \n3       SN_SPRINGER                         Springer   \n4         SN_NATURE                           Nature   \n5         WILEY_DBM             Wiley DataBase Model   \n7            CUP_FP  Cambridge Journals Full Package   \n8            OUP_CC        Oxford Current Collection   \n9            OUP_OA         Oxford Open Access Tiles   \n\n                                                                                                                                 url  \n0                                         https://holdings.sciencedirect.com/holdings/productReport.url?packageId=23471&productId=34  \n1                                          https://holdings.sciencedirect.com/holdings/productReport.url?packageId=7426&productId=34  \n2                                         https://holdings.sciencedirect.com/holdings/productReport.url?packageId=39247&productId=34  \n3                                 http://metadata.springernature.com/metadata/kbart/Springer_Global_Complete_Journals_2021-06-01.txt  \n4                   http://metadata.springernature.com/metadata/kbart/SpringerNature_Global_Nature-Com_AllTitles_2021_2021-06-01.txt  \n5  https://onlinelibrary.wiley.com/pb-assets/Lib%20Marketing/KBART/2021/Journals/wiley_database_model_2021_2021-04-01-1617827011.txt  \n7                   https://www.cambridge.org/core/services/aop-cambridge-core/kbart/create/bespoke/BE6D264D98C2E9F9BFDC17C422C3C696  \n8       http://fdslive.oup.com/www.oup.com/academic/content/librarian/OxfordUniversityPress_Global_2021JournalsCurrentCollection.zip  \n9              http://fdslive.oup.com/www.oup.com/academic/content/librarian/OxfordUniversityPress_Global_2021JournalsOpenAccess.zip  ",
      "text/html": "<div>\n<style scoped>\n    .dataframe tbody tr th:only-of-type {\n        vertical-align: middle;\n    }\n\n    .dataframe tbody tr th {\n        vertical-align: top;\n    }\n\n    .dataframe thead th {\n        text-align: right;\n    }\n</style>\n<table border=\"1\" class=\"dataframe\">\n  <thead>\n    <tr style=\"text-align: right;\">\n      <th></th>\n      <th>code</th>\n      <th>name</th>\n      <th>url</th>\n    </tr>\n  </thead>\n  <tbody>\n    <tr>\n      <th>0</th>\n      <td>ELSEVIER_FC</td>\n      <td>Elsevier Freedom Collection</td>\n      <td>https://holdings.sciencedirect.com/holdings/productReport.url?packageId=23471&amp;productId=34</td>\n    </tr>\n    <tr>\n      <th>1</th>\n      <td>ELSEVIER_CELL</td>\n      <td>Cell Press</td>\n      <td>https://holdings.sciencedirect.com/holdings/productReport.url?packageId=7426&amp;productId=34</td>\n    </tr>\n    <tr>\n      <th>2</th>\n      <td>ELSEVIER_CLINICS</td>\n      <td>Elsevier Clinics Collection</td>\n      <td>https://holdings.sciencedirect.com/holdings/productReport.url?packageId=39247&amp;productId=34</td>\n    </tr>\n    <tr>\n      <th>3</th>\n      <td>SN_SPRINGER</td>\n      <td>Springer</td>\n      <td>http://metadata.springernature.com/metadata/kbart/Springer_Global_Complete_Journals_2021-06-01.txt</td>\n    </tr>\n    <tr>\n      <th>4</th>\n      <td>SN_NATURE</td>\n      <td>Nature</td>\n      <td>http://metadata.springernature.com/metadata/kbart/SpringerNature_Global_Nature-Com_AllTitles_2021_2021-06-01.txt</td>\n    </tr>\n    <tr>\n      <th>5</th>\n      <td>WILEY_DBM</td>\n      <td>Wiley DataBase Model</td>\n      <td>https://onlinelibrary.wiley.com/pb-assets/Lib%20Marketing/KBART/2021/Journals/wiley_database_model_2021_2021-04-01-1617827011.txt</td>\n    </tr>\n    <tr>\n      <th>7</th>\n      <td>CUP_FP</td>\n      <td>Cambridge Journals Full Package</td>\n      <td>https://www.cambridge.org/core/services/aop-cambridge-core/kbart/create/bespoke/BE6D264D98C2E9F9BFDC17C422C3C696</td>\n    </tr>\n    <tr>\n      <th>8</th>\n      <td>OUP_CC</td>\n      <td>Oxford Current Collection</td>\n      <td>http://fdslive.oup.com/www.oup.com/academic/content/librarian/OxfordUniversityPress_Global_2021JournalsCurrentCollection.zip</td>\n    </tr>\n    <tr>\n      <th>9</th>\n      <td>OUP_OA</td>\n      <td>Oxford Open Access Tiles</td>\n      <td>http://fdslive.oup.com/www.oup.com/academic/content/librarian/OxfordUniversityPress_Global_2021JournalsOpenAccess.zip</td>\n    </tr>\n  </tbody>\n</table>\n</div>"
     },
     "metadata": {}
    }
   ],
   "source": [
    "lst = tools.loadJobs('list of packages.xlsx')\n",
    "display(lst[['code','name','url']])"
   ]
  },
  {
   "source": [
    "## Load data"
   ],
   "cell_type": "markdown",
   "metadata": {}
  },
  {
   "cell_type": "code",
   "execution_count": 3,
   "metadata": {},
   "outputs": [
    {
     "output_type": "stream",
     "name": "stdout",
     "text": [
      "Kbart path from stored file ELSEVIER_FC : ELSEVIER_FC.txt\nKbart path from stored file ELSEVIER_CELL : ELSEVIER_CELL.txt\nKbart path from stored file ELSEVIER_CLINICS : ELSEVIER_CLINICS.txt\nKbart path from stored file SN_SPRINGER : SN_SPRINGER.txt\nKbart path from stored file SN_NATURE : SN_NATURE.txt\nKbart path from stored file WILEY_DBM : WILEY_DBM.txt\nKbart path from stored file CUP_FP : CUP_FP.txt\nKbart path from stored file OUP_CC : OUP_CC.txt\nKbart path from stored file OUP_OA : OUP_OA.txt\n"
     ]
    }
   ],
   "source": [
    "data = tools.doKbartJobs()\n"
   ]
  },
  {
   "source": [
    "## Summarize:\n",
    "* Journal publication status (active or inactive) based on the coverage information (date_last_issue_online empty)\n",
    "* Information about the access model from the access_type field (P:paid, F:free)"
   ],
   "cell_type": "markdown",
   "metadata": {}
  },
  {
   "source": [
    "### As a table:"
   ],
   "cell_type": "markdown",
   "metadata": {}
  },
  {
   "cell_type": "code",
   "execution_count": 4,
   "metadata": {},
   "outputs": [
    {
     "output_type": "display_data",
     "data": {
      "text/plain": "                                                       publication_title\n_package         access_type      _publication_status                   \nCUP_FP           (F) free/oa      active                              41\n                                  inactive                             6\n                 (P) subscription active                             377\n                                  inactive                            19\nELSEVIER_CELL    (F) free/oa      inactive                            20\n                 (P) subscription active                              14\n                                  inactive                             4\nELSEVIER_CLINICS (F) free/oa      inactive                             1\n                 (P) subscription active                              51\n                                  inactive                             6\nELSEVIER_FC      (F) free/oa      active                              62\n                                  inactive                           529\n                 (P) subscription active                            1752\n                                  inactive                           962\nOUP_CC           (P) subscription active                             368\n                                  inactive                            22\nOUP_OA           (F) free/oa      active                              83\n                                  inactive                            12\nSN_NATURE        (F) free/oa      active                              50\n                                  inactive                             1\n                 (P) subscription active                              97\n                                  inactive                            18\nSN_SPRINGER      (F) free/oa      active                             517\n                                  inactive                           187\n                 (P) subscription active                            2378\n                                  inactive                           236\nWILEY_DBM        (F) free/oa      active                               1\n                 (P) subscription active                            1475\n                                  inactive                           193",
      "text/html": "<div>\n<style scoped>\n    .dataframe tbody tr th:only-of-type {\n        vertical-align: middle;\n    }\n\n    .dataframe tbody tr th {\n        vertical-align: top;\n    }\n\n    .dataframe thead th {\n        text-align: right;\n    }\n</style>\n<table border=\"1\" class=\"dataframe\">\n  <thead>\n    <tr style=\"text-align: right;\">\n      <th></th>\n      <th></th>\n      <th></th>\n      <th>publication_title</th>\n    </tr>\n    <tr>\n      <th>_package</th>\n      <th>access_type</th>\n      <th>_publication_status</th>\n      <th></th>\n    </tr>\n  </thead>\n  <tbody>\n    <tr>\n      <th rowspan=\"4\" valign=\"top\">CUP_FP</th>\n      <th rowspan=\"2\" valign=\"top\">(F) free/oa</th>\n      <th>active</th>\n      <td>41</td>\n    </tr>\n    <tr>\n      <th>inactive</th>\n      <td>6</td>\n    </tr>\n    <tr>\n      <th rowspan=\"2\" valign=\"top\">(P) subscription</th>\n      <th>active</th>\n      <td>377</td>\n    </tr>\n    <tr>\n      <th>inactive</th>\n      <td>19</td>\n    </tr>\n    <tr>\n      <th rowspan=\"3\" valign=\"top\">ELSEVIER_CELL</th>\n      <th>(F) free/oa</th>\n      <th>inactive</th>\n      <td>20</td>\n    </tr>\n    <tr>\n      <th rowspan=\"2\" valign=\"top\">(P) subscription</th>\n      <th>active</th>\n      <td>14</td>\n    </tr>\n    <tr>\n      <th>inactive</th>\n      <td>4</td>\n    </tr>\n    <tr>\n      <th rowspan=\"3\" valign=\"top\">ELSEVIER_CLINICS</th>\n      <th>(F) free/oa</th>\n      <th>inactive</th>\n      <td>1</td>\n    </tr>\n    <tr>\n      <th rowspan=\"2\" valign=\"top\">(P) subscription</th>\n      <th>active</th>\n      <td>51</td>\n    </tr>\n    <tr>\n      <th>inactive</th>\n      <td>6</td>\n    </tr>\n    <tr>\n      <th rowspan=\"4\" valign=\"top\">ELSEVIER_FC</th>\n      <th rowspan=\"2\" valign=\"top\">(F) free/oa</th>\n      <th>active</th>\n      <td>62</td>\n    </tr>\n    <tr>\n      <th>inactive</th>\n      <td>529</td>\n    </tr>\n    <tr>\n      <th rowspan=\"2\" valign=\"top\">(P) subscription</th>\n      <th>active</th>\n      <td>1752</td>\n    </tr>\n    <tr>\n      <th>inactive</th>\n      <td>962</td>\n    </tr>\n    <tr>\n      <th rowspan=\"2\" valign=\"top\">OUP_CC</th>\n      <th rowspan=\"2\" valign=\"top\">(P) subscription</th>\n      <th>active</th>\n      <td>368</td>\n    </tr>\n    <tr>\n      <th>inactive</th>\n      <td>22</td>\n    </tr>\n    <tr>\n      <th rowspan=\"2\" valign=\"top\">OUP_OA</th>\n      <th rowspan=\"2\" valign=\"top\">(F) free/oa</th>\n      <th>active</th>\n      <td>83</td>\n    </tr>\n    <tr>\n      <th>inactive</th>\n      <td>12</td>\n    </tr>\n    <tr>\n      <th rowspan=\"4\" valign=\"top\">SN_NATURE</th>\n      <th rowspan=\"2\" valign=\"top\">(F) free/oa</th>\n      <th>active</th>\n      <td>50</td>\n    </tr>\n    <tr>\n      <th>inactive</th>\n      <td>1</td>\n    </tr>\n    <tr>\n      <th rowspan=\"2\" valign=\"top\">(P) subscription</th>\n      <th>active</th>\n      <td>97</td>\n    </tr>\n    <tr>\n      <th>inactive</th>\n      <td>18</td>\n    </tr>\n    <tr>\n      <th rowspan=\"4\" valign=\"top\">SN_SPRINGER</th>\n      <th rowspan=\"2\" valign=\"top\">(F) free/oa</th>\n      <th>active</th>\n      <td>517</td>\n    </tr>\n    <tr>\n      <th>inactive</th>\n      <td>187</td>\n    </tr>\n    <tr>\n      <th rowspan=\"2\" valign=\"top\">(P) subscription</th>\n      <th>active</th>\n      <td>2378</td>\n    </tr>\n    <tr>\n      <th>inactive</th>\n      <td>236</td>\n    </tr>\n    <tr>\n      <th rowspan=\"3\" valign=\"top\">WILEY_DBM</th>\n      <th>(F) free/oa</th>\n      <th>active</th>\n      <td>1</td>\n    </tr>\n    <tr>\n      <th rowspan=\"2\" valign=\"top\">(P) subscription</th>\n      <th>active</th>\n      <td>1475</td>\n    </tr>\n    <tr>\n      <th>inactive</th>\n      <td>193</td>\n    </tr>\n  </tbody>\n</table>\n</div>"
     },
     "metadata": {}
    }
   ],
   "source": [
    "display(tools.runSummarize(data))\n"
   ]
  },
  {
   "source": [],
   "cell_type": "markdown",
   "metadata": {}
  },
  {
   "source": [
    "### Description:"
   ],
   "cell_type": "markdown",
   "metadata": {}
  },
  {
   "cell_type": "code",
   "execution_count": 5,
   "metadata": {
    "tags": []
   },
   "outputs": [
    {
     "output_type": "stream",
     "name": "stdout",
     "text": [
      "Elsevier Freedom Collection\n\tELSEVIER_FC - Number of titles in the kbart file:3305\n\tELSEVIER_FC - Number of active titles:1814\n\tELSEVIER_FC - Number of free (e.g. Open Access or Free Access) active titles:0\n\tELSEVIER_FC - Number of paid (e.g. subscription) active titles:0\nCell Press\n\tELSEVIER_CELL - Number of titles in the kbart file:38\n\tELSEVIER_CELL - Number of active titles:14\n\tELSEVIER_CELL - Number of free (e.g. Open Access or Free Access) active titles:0\n\tELSEVIER_CELL - Number of paid (e.g. subscription) active titles:0\nElsevier Clinics Collection\n\tELSEVIER_CLINICS - Number of titles in the kbart file:58\n\tELSEVIER_CLINICS - Number of active titles:51\n\tELSEVIER_CLINICS - Number of free (e.g. Open Access or Free Access) active titles:0\n\tELSEVIER_CLINICS - Number of paid (e.g. subscription) active titles:0\nSpringer\n\tSN_SPRINGER - Number of titles in the kbart file:3318\n\tSN_SPRINGER - Number of active titles:2895\n\tSN_SPRINGER - Number of free (e.g. Open Access or Free Access) active titles:0\n\tSN_SPRINGER - Number of paid (e.g. subscription) active titles:0\nNature\n\tSN_NATURE - Number of titles in the kbart file:166\n\tSN_NATURE - Number of active titles:147\n\tSN_NATURE - Number of free (e.g. Open Access or Free Access) active titles:0\n\tSN_NATURE - Number of paid (e.g. subscription) active titles:0\nWiley DataBase Model\n\tWILEY_DBM - Number of titles in the kbart file:1669\n\tWILEY_DBM - Number of active titles:1476\n\tWILEY_DBM - Number of free (e.g. Open Access or Free Access) active titles:0\n\tWILEY_DBM - Number of paid (e.g. subscription) active titles:0\nCambridge Journals Full Package\n\tCUP_FP - Number of titles in the kbart file:443\n\tCUP_FP - Number of active titles:418\n\tCUP_FP - Number of free (e.g. Open Access or Free Access) active titles:0\n\tCUP_FP - Number of paid (e.g. subscription) active titles:0\nOxford Current Collection\n\tOUP_CC - Number of titles in the kbart file:390\n\tOUP_CC - Number of active titles:368\n\tOUP_CC - Number of free (e.g. Open Access or Free Access) active titles:0\n\tOUP_CC - Number of paid (e.g. subscription) active titles:0\nOxford Open Access Tiles\n\tOUP_OA - Number of titles in the kbart file:95\n\tOUP_OA - Number of active titles:83\n\tOUP_OA - Number of free (e.g. Open Access or Free Access) active titles:0\n\tOUP_OA - Number of paid (e.g. subscription) active titles:0\n"
     ]
    }
   ],
   "source": [
    "tools.runSummarize2(data)\n"
   ]
  },
  {
   "cell_type": "code",
   "execution_count": null,
   "metadata": {},
   "outputs": [],
   "source": []
  }
 ]
}