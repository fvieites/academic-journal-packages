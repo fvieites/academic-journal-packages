{
 "metadata": {
  "language_info": {
   "codemirror_mode": {
    "name": "ipython",
    "version": 3
   },
   "file_extension": ".py",
   "mimetype": "text/x-python",
   "name": "python",
   "nbconvert_exporter": "python",
   "pygments_lexer": "ipython3",
   "version": "3.7.7"
  },
  "orig_nbformat": 4,
  "kernelspec": {
   "name": "python3",
   "display_name": "Python 3.7.7 64-bit ('VSCEnv': conda)"
  },
  "interpreter": {
   "hash": "b07dd0f1d594fbcaa181942932e1fe61b445d8954c68fe2cda2920f29932a38f"
  }
 },
 "nbformat": 4,
 "nbformat_minor": 2,
 "cells": [
  {
   "source": [
    "# Academic journal package summary from KBART Files\n",
    "## Elsevier:\n",
    "Url for Kbart files: https://holdings.sciencedirect.com/ehr/searchReports.\n",
    "\n",
    "* Freedom Collection \n",
    "* Cell Press \n",
    "* Clinics Collection\n",
    "* ?? KBart files not found: Lancet?\n",
    "\n",
    "## Springer:\n",
    "Url for Kbart files: http://metadata.springernature.com/metadata/kbart\n",
    "\n",
    "* Complete Springer Journals\n",
    "* Nature Journals\n",
    "* ?? KBart files not found: Adis? Palgrave? Academic?\n",
    "\n",
    "## Wiley:\n",
    "Url for Kbart files: https://onlinelibrary.wiley.com/library-info/resources/discovery/kbart2019?=#\n",
    "* DBM 2021\n",
    "* Full Journals 2021 - this kbart seems truncated\n",
    "\n",
    "\n",
    "The list of kbart files and urls used are in the file \"list of packages.xlsx\""
   ],
   "cell_type": "markdown",
   "metadata": {}
  },
  {
   "cell_type": "code",
   "execution_count": 1,
   "metadata": {},
   "outputs": [],
   "source": [
    "from IPython.display import display, HTML\n",
    "import src.tools as tools"
   ]
  },
  {
   "source": [
    "## KBART files to be used:\n"
   ],
   "cell_type": "markdown",
   "metadata": {}
  },
  {
   "cell_type": "code",
   "execution_count": 2,
   "metadata": {},
   "outputs": [
    {
     "output_type": "display_data",
     "data": {
      "text/plain": "                          name  \\\n0  Elsevier Freedom Collection   \n1                   Cell Press   \n2  Elsevier Clinics Collection   \n3                     Springer   \n4                       Nature   \n5         Wiley DataBase Model   \n\n                                                 url  \n0  https://holdings.sciencedirect.com/holdings/pr...  \n1  https://holdings.sciencedirect.com/holdings/pr...  \n2  https://holdings.sciencedirect.com/holdings/pr...  \n3  http://metadata.springernature.com/metadata/kb...  \n4  http://metadata.springernature.com/metadata/kb...  \n5  https://onlinelibrary.wiley.com/pb-assets/Lib%...  ",
      "text/html": "<div>\n<style scoped>\n    .dataframe tbody tr th:only-of-type {\n        vertical-align: middle;\n    }\n\n    .dataframe tbody tr th {\n        vertical-align: top;\n    }\n\n    .dataframe thead th {\n        text-align: right;\n    }\n</style>\n<table border=\"1\" class=\"dataframe\">\n  <thead>\n    <tr style=\"text-align: right;\">\n      <th></th>\n      <th>name</th>\n      <th>url</th>\n    </tr>\n  </thead>\n  <tbody>\n    <tr>\n      <th>0</th>\n      <td>Elsevier Freedom Collection</td>\n      <td>https://holdings.sciencedirect.com/holdings/pr...</td>\n    </tr>\n    <tr>\n      <th>1</th>\n      <td>Cell Press</td>\n      <td>https://holdings.sciencedirect.com/holdings/pr...</td>\n    </tr>\n    <tr>\n      <th>2</th>\n      <td>Elsevier Clinics Collection</td>\n      <td>https://holdings.sciencedirect.com/holdings/pr...</td>\n    </tr>\n    <tr>\n      <th>3</th>\n      <td>Springer</td>\n      <td>http://metadata.springernature.com/metadata/kb...</td>\n    </tr>\n    <tr>\n      <th>4</th>\n      <td>Nature</td>\n      <td>http://metadata.springernature.com/metadata/kb...</td>\n    </tr>\n    <tr>\n      <th>5</th>\n      <td>Wiley DataBase Model</td>\n      <td>https://onlinelibrary.wiley.com/pb-assets/Lib%...</td>\n    </tr>\n  </tbody>\n</table>\n</div>"
     },
     "metadata": {}
    }
   ],
   "source": [
    "lst = tools.loadJobs('list of packages.xlsx')\n",
    "display(lst[['name','url']])"
   ]
  },
  {
   "source": [
    "## Load data"
   ],
   "cell_type": "markdown",
   "metadata": {}
  },
  {
   "cell_type": "code",
   "execution_count": 3,
   "metadata": {},
   "outputs": [
    {
     "output_type": "stream",
     "name": "stdout",
     "text": [
      "Kbart path from stored file ELSEVIER_FC : ELSEVIER_FC.txt\nKbart path from stored file ELSEVIER_CELL : ELSEVIER_CELL.txt\nKbart path from stored file ELSEVIER_CLINICS : ELSEVIER_CLINICS.txt\nKbart path from stored file SPRINGER : SPRINGER.txt\nKbart path from stored file NATURE : NATURE.txt\nKbart path from stored file WILEY_DBM : WILEY_DBM.txt\n"
     ]
    }
   ],
   "source": [
    "data = tools.doKbartJobs()\n"
   ]
  },
  {
   "source": [
    "## Summarize:\n",
    "* Inferred the journal publication status (active or inactive) based on the coverage information (date_last_issue_online empty)\n",
    "* Information about the access model from de access_type field (P:paid, F:free)"
   ],
   "cell_type": "markdown",
   "metadata": {}
  },
  {
   "cell_type": "code",
   "execution_count": 4,
   "metadata": {},
   "outputs": [
    {
     "output_type": "stream",
     "name": "stdout",
     "text": [
      "Elsevier Freedom Collection\n",
      "\t0 - ELSEVIER_FC - Number of titles in the kbart file:3305\n",
      "\t0 - ELSEVIER_FC - Number of active titles:1814\n",
      "\t0 - ELSEVIER_FC - Number of free (e.g. Open Access or Free Access) active titles:62\n",
      "\t0 - ELSEVIER_FC - Number of paid (e.g. subscription) active titles:1752\n",
      "Cell Press\n",
      "\t1 - ELSEVIER_CELL - Number of titles in the kbart file:38\n",
      "\t1 - ELSEVIER_CELL - Number of active titles:14\n",
      "\t1 - ELSEVIER_CELL - Number of free (e.g. Open Access or Free Access) active titles:0\n",
      "\t1 - ELSEVIER_CELL - Number of paid (e.g. subscription) active titles:14\n",
      "Elsevier Clinics Collection\n",
      "\t2 - ELSEVIER_CLINICS - Number of titles in the kbart file:58\n",
      "\t2 - ELSEVIER_CLINICS - Number of active titles:51\n",
      "\t2 - ELSEVIER_CLINICS - Number of free (e.g. Open Access or Free Access) active titles:0\n",
      "\t2 - ELSEVIER_CLINICS - Number of paid (e.g. subscription) active titles:51\n",
      "Springer\n",
      "\t3 - SPRINGER - Number of titles in the kbart file:3318\n",
      "\t3 - SPRINGER - Number of active titles:2895\n",
      "\t3 - SPRINGER - Number of free (e.g. Open Access or Free Access) active titles:517\n",
      "\t3 - SPRINGER - Number of paid (e.g. subscription) active titles:2378\n",
      "Nature\n",
      "\t4 - NATURE - Number of titles in the kbart file:166\n",
      "\t4 - NATURE - Number of active titles:147\n",
      "\t4 - NATURE - Number of free (e.g. Open Access or Free Access) active titles:50\n",
      "\t4 - NATURE - Number of paid (e.g. subscription) active titles:97\n",
      "Wiley DataBase Model\n",
      "\t5 - WILEY_DBM - Number of titles in the kbart file:1669\n",
      "\t5 - WILEY_DBM - Number of active titles:1476\n",
      "\t5 - WILEY_DBM - Number of free (e.g. Open Access or Free Access) active titles:1\n",
      "\t5 - WILEY_DBM - Number of paid (e.g. subscription) active titles:1475\n"
     ]
    }
   ],
   "source": [
    "tools.runSummarize2(data)\n"
   ]
  },
  {
   "source": [
    "### As a table:"
   ],
   "cell_type": "markdown",
   "metadata": {}
  },
  {
   "cell_type": "code",
   "execution_count": 5,
   "metadata": {
    "tags": []
   },
   "outputs": [
    {
     "output_type": "stream",
     "name": "stdout",
     "text": [
      "                                                  publication_title\n_package         access_type _publication_status                   \nELSEVIER_CELL    F           inactive                            20\n                 P           active                              14\n                             inactive                             4\nELSEVIER_CLINICS F           inactive                             1\n                 P           active                              51\n                             inactive                             6\nELSEVIER_FC      F           active                              62\n                             inactive                           529\n                 P           active                            1752\n                             inactive                           962\nNATURE           F           active                              50\n                             inactive                             1\n                 P           active                              97\n                             inactive                            18\nSPRINGER         F           active                             517\n                             inactive                           187\n                 P           active                            2378\n                             inactive                           236\nWILEY_DBM        F           active                               1\n                 P           active                            1475\n                             inactive                           193\n"
     ]
    }
   ],
   "source": [
    "\n",
    "tools.runSummarize(data)\n"
   ]
  },
  {
   "cell_type": "code",
   "execution_count": null,
   "metadata": {},
   "outputs": [],
   "source": []
  }
 ]
}